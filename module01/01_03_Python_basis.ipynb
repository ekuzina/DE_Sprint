{
  "nbformat": 4,
  "nbformat_minor": 0,
  "metadata": {
    "colab": {
      "provenance": [],
      "collapsed_sections": []
    },
    "kernelspec": {
      "name": "python3",
      "display_name": "Python 3"
    },
    "language_info": {
      "name": "python"
    }
  },
  "cells": [
    {
      "cell_type": "markdown",
      "source": [
        "# 1.3. Основы синтаксиса и структур в Python  \n",
        "*Выполнения заданий представлены Кузиной Екатериной*"
      ],
      "metadata": {
        "id": "XOHJk9ngF9W0"
      }
    },
    {
      "cell_type": "markdown",
      "source": [
        "## Задание 1\n",
        "Необходимо спарсить данные о вакансиях python разработчиков с сайта hh.ru, введя в поиск “python разработчик” и указав, что мы рассматриваем все регионы. Необходимо спарсить:\n",
        " - Название вакансии\n",
        " - Требуемый опыт работы\n",
        " - Заработную плату\n",
        " - Регион  \n",
        "\n",
        "И сохранить эти данные в формате json в следующем виде: "
      ],
      "metadata": {
        "id": "XyPZqXk9GW6K"
      }
    },
    {
      "cell_type": "code",
      "execution_count": 141,
      "metadata": {
        "colab": {
          "base_uri": "https://localhost:8080/"
        },
        "id": "REVNPSBxFyBA",
        "outputId": "5aab6e45-672e-43f2-bd92-d7f0ce91d81d"
      },
      "outputs": [
        {
          "output_type": "execute_result",
          "data": {
            "text/plain": [
              "{'data': [{'title': 'Разработчик C# (Backend)',\n",
              "   'work experience': '3-6 лет',\n",
              "   'salary': '2 500 USD',\n",
              "   'region': 'Алматы'},\n",
              "  {}]}"
            ]
          },
          "metadata": {},
          "execution_count": 141
        }
      ],
      "source": [
        "{\n",
        "    'data': [\n",
        "        {\n",
        "          'title': 'Разработчик C# (Backend)',\n",
        "          'work experience': '3-6 лет',\n",
        "          'salary': '2 500 USD',\n",
        "          'region': 'Алматы'\n",
        "        }, {\n",
        "            \n",
        "        }\n",
        "    ]\n",
        "}"
      ]
    },
    {
      "cell_type": "code",
      "source": [
        "import requests as req\n",
        "from bs4 import BeautifulSoup"
      ],
      "metadata": {
        "id": "UlxZMyvPHRYV"
      },
      "execution_count": 142,
      "outputs": []
    },
    {
      "cell_type": "code",
      "source": [
        "from time import sleep\n",
        "from tqdm import tqdm"
      ],
      "metadata": {
        "id": "4cN4JPQUSv6y"
      },
      "execution_count": 143,
      "outputs": []
    },
    {
      "cell_type": "code",
      "source": [
        "import json"
      ],
      "metadata": {
        "id": "eUg092Ix1xzB"
      },
      "execution_count": 144,
      "outputs": []
    },
    {
      "cell_type": "code",
      "source": [
        "# not to be defined as DDoS attack\n",
        "headers = {\"user-agent\": \"Mozilla/5.0 (Windows NT 10.0; Win64; x64) AppleWebKit/537.36 (KHTML, like Gecko) Chrome/104.0.5112.114 YaBrowser/22.9.1.1095 Yowser/2.5 Safari/537.36\"}"
      ],
      "metadata": {
        "id": "qR6zNiAGNFxN"
      },
      "execution_count": 145,
      "outputs": []
    },
    {
      "cell_type": "code",
      "source": [
        "def card_summary(card_parser):\n",
        "  summary = {'title': None,\n",
        "          'work experience': None,\n",
        "          'salary': None,\n",
        "          'region': None}\n",
        "  try:\n",
        "    summary['title'] = (card_parser.find('h1', attrs={'data-qa': 'vacancy-title'}).text)\n",
        "    summary['work experience'] = (card_parser.find('span', attrs={'data-qa': 'vacancy-experience'}).text)\n",
        "    summary['salary'] = (parse_salary(card_parser))\n",
        "    summary['region'] = (card_parser.find('span', attrs={'data-qa': 'vacancy-view-raw-address'}).contents[0])\n",
        "  except Exception as e:\n",
        "    pass\n",
        "  return summary"
      ],
      "metadata": {
        "id": "dfadRjhVwqzu"
      },
      "execution_count": 146,
      "outputs": []
    },
    {
      "cell_type": "code",
      "source": [
        "def parse_salary(card_parser):\n",
        "  span = card_parser.find('div', attrs={'data-qa': 'vacancy-salary'}).find('span')\n",
        "  \n",
        "  if span.attrs['data-qa'] == 'vacancy-salary-compensation-type-undefined':\n",
        "    return None\n",
        "\n",
        "  cont = span.contents\n",
        "  currency = cont[-2]\n",
        "  salary = 0\n",
        "\n",
        "  # get elements with salary range\n",
        "  clear_cont = []\n",
        "  for elem in cont:\n",
        "    try:\n",
        "      int(elem[0])\n",
        "      clear_cont.append(elem)\n",
        "    except Exception as e:\n",
        "      pass\n",
        "  \n",
        "  # convert salary to float\n",
        "  clear_cont = [float(x.replace(u'\\xa0', u'')) for x in clear_cont]\n",
        "  if len(clear_cont) > 1:\n",
        "    salary = (clear_cont[0]+clear_cont[1])/2\n",
        "  else:\n",
        "    salary = clear_cont[0]\n",
        "\n",
        "  return '{0:8.2f} {1}'.format(salary, currency)"
      ],
      "metadata": {
        "id": "faC32Tigrkyp"
      },
      "execution_count": 147,
      "outputs": []
    },
    {
      "cell_type": "code",
      "source": [
        "def write_json(new_data, filename='vacancies.json'):\n",
        "    with open(filename,'r+') as file:\n",
        "        # First we load existing data into a dict.\n",
        "        file_data = json.load(file)\n",
        "        # Join new_data with file_data inside emp_details\n",
        "        file_data['data'].append(new_data)\n",
        "        # Sets file's current position at offset.\n",
        "        file.seek(0)\n",
        "        # convert back to json.\n",
        "        json.dump(file_data, file, ensure_ascii=False)"
      ],
      "metadata": {
        "id": "M0B2Gyey4RV-"
      },
      "execution_count": 148,
      "outputs": []
    },
    {
      "cell_type": "code",
      "source": [
        "with open('vacancies.json', 'w') as f:\n",
        "      json.dump({'data':[]}, f, ensure_ascii=False)"
      ],
      "metadata": {
        "id": "ht6JBdrd4gih"
      },
      "execution_count": 149,
      "outputs": []
    },
    {
      "cell_type": "code",
      "source": [
        "for i in tqdm(range(1,10), colour='green'):\n",
        "  sleep(2.5)\n",
        "  url = f'https://hh.ru/search/vacancy?page={i}&L_save_area=true&text=python+разработчик&search_field=name&search_field=description&area=113&area=5&area=40&area=9&area=28&area=16&area=1001&area=48&area=97&items_on_page=20'\n",
        "  response = req.get(url, headers = headers)\n",
        "  if response.status_code != 200:\n",
        "    print('Bad response {0}:\\t{1}'.format(i, response.status_code))\n",
        "    continue\n",
        "  \n",
        "  vacancy = []\n",
        "  parser = BeautifulSoup(response.text, 'lxml')\n",
        "  for tag in parser.find_all('a', attrs={'class': 'serp-item__title'}):\n",
        "    card_url = tag.get('href')\n",
        "    sleep(0.8)\n",
        "    card = req.get(card_url, headers=headers)\n",
        "    if card.status_code != 200:\n",
        "      print('Bad card response:\\t{0}\\t{1}'.format(response.status_code, card_url))\n",
        "      continue\n",
        "\n",
        "    card_parser = BeautifulSoup(card.text, 'lxml')\n",
        "    vacancy.append(card_summary(card_parser))\n",
        "\n",
        "    write_json(vacancy)"
      ],
      "metadata": {
        "colab": {
          "base_uri": "https://localhost:8080/"
        },
        "id": "t9kKm1JsS4xY",
        "outputId": "3c519fe5-c08a-4964-9832-ff4f4f32e761"
      },
      "execution_count": 150,
      "outputs": [
        {
          "output_type": "stream",
          "name": "stderr",
          "text": [
            "100%|\u001b[32m██████████\u001b[0m| 9/9 [06:56<00:00, 46.32s/it]\n"
          ]
        }
      ]
    },
    {
      "cell_type": "markdown",
      "source": [
        "## 2. Палиндром строки\n",
        "Дана строка X, возвращайте True, если X является палиндромом."
      ],
      "metadata": {
        "id": "iCRg9iXD65K7"
      }
    },
    {
      "cell_type": "code",
      "source": [
        "def is_palindrome(input_str):\n",
        "  if not isinstance(input_str, str): return False\n",
        "  input_str = input_str.replace(' ', '')\n",
        "  str_len = len(input_str)\n",
        "  if str_len == 0: return False\n",
        "  if str_len == 1: return True\n",
        "\n",
        "  half_len = str_len//2\n",
        "  input_str = input_str.lower()\n",
        "  for i in range(half_len):\n",
        "    if input_str[i] != input_str[-(i+1)]:\n",
        "      return False\n",
        "  \n",
        "  return True\n"
      ],
      "metadata": {
        "id": "6OOjSXEY64LH"
      },
      "execution_count": 166,
      "outputs": []
    },
    {
      "cell_type": "code",
      "source": [
        "assert(is_palindrome('taco cat') == True)\n",
        "assert(is_palindrome('rotator') == True)\n",
        "assert(is_palindrome('black cat') == False)\n",
        "assert(is_palindrome('а роза упала на лапу азора') == True)"
      ],
      "metadata": {
        "id": "BZBCbERM8fCE"
      },
      "execution_count": 168,
      "outputs": []
    },
    {
      "cell_type": "markdown",
      "source": [
        "## 3. Перевод арабского числа в римское\n",
        "Дано целое положительное число X, необходимо вывести вариант этого числа в римской системе счисления в формате строки."
      ],
      "metadata": {
        "id": "lPK3-9gS-JM_"
      }
    },
    {
      "cell_type": "code",
      "source": [
        "def roman_numerals(x):\n",
        "  x = list(str(x))\n",
        "  x = [int(x_i) for x_i in x]\n",
        "  while len(x) != 4: \n",
        "    x = [0] + x\n",
        "  roman_x = []\n",
        "  for i in range(4):\n",
        "    if x[i] == 0:\n",
        "      continue\n",
        "    roman_x.append(create_digit(x[i],i))\n",
        "  return ''.join(roman_x)"
      ],
      "metadata": {
        "id": "mh7EtJQo85Om"
      },
      "execution_count": 200,
      "outputs": []
    },
    {
      "cell_type": "code",
      "source": [
        "digits = {3: ['I', 'V', 'X'], 2: ['X', 'L', 'C'], 1: ['C', 'D', 'M'], 0: ['M']}"
      ],
      "metadata": {
        "id": "BEHq9nCGCBBA"
      },
      "execution_count": 201,
      "outputs": []
    },
    {
      "cell_type": "code",
      "source": [
        "def define_type(x):\n",
        "  if x < 4:\n",
        "    return 0\n",
        "  if x == 4:\n",
        "    return 1\n",
        "  if x < 9:\n",
        "    return 2\n",
        "  if x == 9:\n",
        "    return 3"
      ],
      "metadata": {
        "id": "iHKqdcyJBcnN"
      },
      "execution_count": 202,
      "outputs": []
    },
    {
      "cell_type": "code",
      "source": [
        "def create_digit(x, pos):\n",
        "  type_ = define_type(x)\n",
        "  if type_ == 1:\n",
        "    return digits[pos][0] + digits[pos][1]\n",
        "  if type_ == 3:\n",
        "    return digits[pos][0] + digits[pos][2]\n",
        "\n",
        "  if type_ == 0:\n",
        "    return digits[pos][0]*(x)\n",
        "  if type_ == 2:\n",
        "    return digits[pos][1]+digits[pos][0]*(x-5)"
      ],
      "metadata": {
        "id": "fEhlleaaCkk9"
      },
      "execution_count": 203,
      "outputs": []
    },
    {
      "cell_type": "code",
      "source": [
        "assert(roman_numerals(3) == 'III')\n",
        "assert(roman_numerals(9) == 'IX')\n",
        "assert(roman_numerals(1945) == 'MCMXLV')"
      ],
      "metadata": {
        "id": "kzhqvxyIAl70"
      },
      "execution_count": 205,
      "outputs": []
    },
    {
      "cell_type": "markdown",
      "source": [
        "## 4. Валидность скобок\n",
        "Дана строка X, состоящая только из символов '{', '}', '[', ']', '(', ')'. Программа должна вывести True, в том случае если все открытые скобки закрыты.   \n",
        "\n",
        "Например: '[()]{}', все открытые скобки закрыты закрывающимися скобками, потому вывод будет True.   \n",
        "В случае же, если строка будет похожа на: '{{{}', то вывод будет False, т.к. не все открытые скобки закрыты."
      ],
      "metadata": {
        "id": "39H0oQT4Fx3f"
      }
    },
    {
      "cell_type": "code",
      "source": [
        "def is_closed(bracket_string):\n",
        "  brackets = {')':'(', ']':'[', '}':'{'}\n",
        "  open_brackets = []\n",
        "  for sym in bracket_string:\n",
        "    if sym in brackets.values():\n",
        "      open_brackets.append(sym)\n",
        "    elif len(open_brackets) > 0 and open_brackets[-1] == brackets[sym]:\n",
        "      open_brackets.pop()\n",
        "    else:\n",
        "      return False\n",
        "  return len(open_brackets) == 0"
      ],
      "metadata": {
        "id": "i-eHuhRVFsIn"
      },
      "execution_count": 207,
      "outputs": []
    },
    {
      "cell_type": "code",
      "source": [
        "assert(is_closed('[()]{}') == True)\n",
        "assert(is_closed('{{{}') == False)\n",
        "assert(is_closed('{[}]') == False)"
      ],
      "metadata": {
        "id": "7SuyDBfCII0G"
      },
      "execution_count": 210,
      "outputs": []
    },
    {
      "cell_type": "markdown",
      "source": [
        "## 5. Умножить два бинарных числа в формате строк\n",
        " На вход подаются две строки X1 и X2, содержащие бинарные числа.  \n",
        " Необходимо вывести их бинарное произведение в формате строки."
      ],
      "metadata": {
        "id": "gplglqrgIjrB"
      }
    },
    {
      "cell_type": "code",
      "source": [
        "def mult(a,b):\n",
        "  a = int(a, 2)\n",
        "  b = int(b, 2)\n",
        "  return str(bin(a*b))[2:]"
      ],
      "metadata": {
        "id": "wLwEnKSoIM_l"
      },
      "execution_count": 219,
      "outputs": []
    },
    {
      "cell_type": "code",
      "source": [
        "assert(mult('111', '101') == '100011')"
      ],
      "metadata": {
        "id": "Hfo4s6hNJVDh"
      },
      "execution_count": 221,
      "outputs": []
    }
  ]
}